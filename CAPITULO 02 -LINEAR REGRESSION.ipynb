{
 "cells": [
  {
   "cell_type": "code",
   "execution_count": 25,
   "metadata": {},
   "outputs": [],
   "source": [
    "from sklearn.datasets import make_regression\n",
    "import matplotlib.pyplot as plt\n",
    "import numpy as np\n",
    "X,y = make_regression(n_samples=100, n_features=1, noise=1.0, bias=50)\n",
    "# se transforma de vector a arreglo\n",
    "y = y.reshape( y.shape[0], 1 )"
   ]
  },
  {
   "cell_type": "code",
   "execution_count": 26,
   "metadata": {},
   "outputs": [
    {
     "data": {
      "image/png": "[encoded data removed]",
      "text/plain": [
       "<Figure size 576x576 with 1 Axes>"
      ]
     },
     "metadata": {
      "needs_background": "light"
     },
     "output_type": "display_data"
    }
   ],
   "source": [
    "plt.scatter(X,y)\n",
    "plt.rcParams[\"figure.figsize\"]=[8,8]"
   ]
  },
  {
   "cell_type": "code",
   "execution_count": 27,
   "metadata": {},
   "outputs": [
    {
     "name": "stdout",
     "output_type": "stream",
     "text": [
      "(100, 1)\n",
      "(100, 1)\n"
     ]
    }
   ],
   "source": [
    "print(X.shape)\n",
    "print(y.shape)"
   ]
  },
  {
   "cell_type": "code",
   "execution_count": 28,
   "metadata": {},
   "outputs": [],
   "source": [
    "def define_parameters( n_weights):\n",
    "    a = np.random.randn( n_weights , 1 )\n",
    "    b = np.random.randn()\n",
    "    return a, b"
   ]
  },
  {
   "cell_type": "code",
   "execution_count": 29,
   "metadata": {},
   "outputs": [],
   "source": [
    "def predictions( a , b, X  ):\n",
    "    z = np.dot(X,a) + b\n",
    "    return z"
   ]
  },
  {
   "cell_type": "code",
   "execution_count": 30,
   "metadata": {},
   "outputs": [],
   "source": [
    "def find_cost(z, y):\n",
    "    m= y.shape[0]\n",
    "    total_cost=(1/m)*np.sum(  np.square( z - y)  )\n",
    "    return total_cost"
   ]
  },
  {
   "cell_type": "code",
   "execution_count": 31,
   "metadata": {},
   "outputs": [],
   "source": [
    "def find_derivates(X, y , z):\n",
    "    m =  y.shape[0]\n",
    "    dz= (1/m)*(z-y)\n",
    "    da= np.dot(X.T, dz)\n",
    "    db= np.sum(dz)\n",
    "    return da, db"
   ]
  },
  {
   "cell_type": "code",
   "execution_count": 32,
   "metadata": {},
   "outputs": [],
   "source": [
    "def update_parameters(a , b, da, db, lr):\n",
    "    a=a-lr*da\n",
    "    b=b-lr*db\n",
    "    return a, b\n",
    "    "
   ]
  },
  {
   "cell_type": "code",
   "execution_count": 33,
   "metadata": {},
   "outputs": [],
   "source": [
    "def linear_regression(X, y , lr, epoch):\n",
    "    error_list=[]\n",
    "    lenw =  X.shape[1]\n",
    "    a, b = define_parameters(lenw)\n",
    "    for i in range(epoch):\n",
    "        z= predictions(a, b, X)\n",
    "        cost = find_cost(z, y)\n",
    "        error_list.append(cost)\n",
    "        da, db = find_derivates(X, y, z)\n",
    "        a, b = update_parameters(a, b, da, db, lr)\n",
    "        if i%50 ==0:\n",
    "            print( cost)\n",
    "    return error_list\n",
    "            \n",
    "            \n",
    "        "
   ]
  },
  {
   "cell_type": "code",
   "execution_count": 34,
   "metadata": {},
   "outputs": [
    {
     "name": "stdout",
     "output_type": "stream",
     "text": [
      "3043.745709819306\n",
      "1218.0360764023728\n",
      "488.9383502368346\n",
      "197.00892371613529\n",
      "79.85637140326615\n",
      "32.75118984629745\n",
      "13.779468816079458\n",
      "6.127740353557035\n",
      "3.0379074998668485\n",
      "1.7889328455573699\n",
      "1.2836351160871644\n",
      "1.079057576742505\n",
      "0.9961802233241615\n",
      "0.9625879785116681\n",
      "0.9489662648271435\n",
      "0.943440608352913\n",
      "0.9411984309486117\n",
      "0.9402883740302416\n",
      "0.9399189190196405\n",
      "0.9397689043314347\n"
     ]
    }
   ],
   "source": [
    "lr=0.01\n",
    "epoch = 1000\n",
    "error_list = linear_regression(X,y,lr, epoch)"
   ]
  },
  {
   "cell_type": "code",
   "execution_count": 35,
   "metadata": {},
   "outputs": [
    {
     "data": {
      "text/plain": [
       "[<matplotlib.lines.Line2D at 0x7f9c4f4fad10>]"
      ]
     },
     "execution_count": 35,
     "metadata": {},
     "output_type": "execute_result"
    },
    {
     "data": {
      "image/png": "[encoded data removed]",
      "text/plain": [
       "<Figure size 576x576 with 1 Axes>"
      ]
     },
     "metadata": {
      "needs_background": "light"
     },
     "output_type": "display_data"
    }
   ],
   "source": [
    "plt.plot(error_list)"
   ]
  },
  {
   "cell_type": "code",
   "execution_count": 36,
   "metadata": {},
   "outputs": [],
   "source": [
    "#MULTIVARIATE LINEAR REGRESSION"
   ]
  },
  {
   "cell_type": "code",
   "execution_count": 37,
   "metadata": {},
   "outputs": [],
   "source": [
    "from sklearn.datasets import make_regression\n",
    "import matplotlib.pyplot as plt\n",
    "import numpy as np\n",
    "\n",
    "X, y = make_regression(n_samples=100, n_features=3, noise=1.0, bias=50)\n",
    "y = y.reshape( y.shape[0],1  )"
   ]
  },
  {
   "cell_type": "code",
   "execution_count": 38,
   "metadata": {},
   "outputs": [
    {
     "name": "stdout",
     "output_type": "stream",
     "text": [
      "(100, 3)\n",
      "(100, 1)\n"
     ]
    }
   ],
   "source": [
    "print(X.shape)\n",
    "print(y.shape)"
   ]
  },
  {
   "cell_type": "code",
   "execution_count": 39,
   "metadata": {},
   "outputs": [
    {
     "data": {
      "text/plain": [
       "array([[-6.94075907e-01, -2.60512497e-01, -1.43598483e+00],\n",
       "       [-6.43649649e-01, -4.99248314e-01,  4.74317446e-01],\n",
       "       [ 1.63827293e+00, -5.64591563e-01, -3.06864492e-01],\n",
       "       [-1.83918568e+00,  7.85166586e-01,  1.44065553e-01],\n",
       "       [-7.08427873e-02,  8.14651666e-01,  4.34878543e-01],\n",
       "       [-3.19951718e-01,  1.30729448e+00, -5.26040230e-01],\n",
       "       [-8.23489029e-01, -4.16348390e-01, -1.10574028e+00],\n",
       "       [-4.43307353e-02,  1.19937760e+00, -1.30961823e+00],\n",
       "       [-3.17099180e-01, -1.23038354e+00,  4.84582074e-02],\n",
       "       [ 3.31326520e-01,  4.55518293e-01, -7.85749676e-01],\n",
       "       [ 6.31580100e-01, -1.48975249e+00,  3.56733103e-01],\n",
       "       [ 2.88453440e-01, -1.54675235e+00,  5.60575969e-02],\n",
       "       [-1.62302465e-01, -1.27720398e+00,  2.89478675e-01],\n",
       "       [ 2.79822501e-01, -9.83671116e-01, -7.50380305e-01],\n",
       "       [-8.64191175e-01, -1.25979549e+00, -1.18119923e+00],\n",
       "       [-6.45825174e-01,  4.17772419e-01, -2.02602028e+00],\n",
       "       [ 5.00243306e-01, -4.32400861e-01,  1.23432347e+00],\n",
       "       [-2.56124889e-01,  4.02804411e-01, -5.72668493e-01],\n",
       "       [ 4.12303093e-01, -2.42378895e-01, -1.37846004e+00],\n",
       "       [-1.26480485e-01,  1.09721770e+00,  1.40623293e-01],\n",
       "       [-4.64470330e-01, -8.06904814e-01, -7.24493509e-01],\n",
       "       [ 1.74121186e+00, -3.32742772e-02, -2.14062950e-01],\n",
       "       [ 1.19874343e+00, -8.02522655e-01, -1.07813946e+00],\n",
       "       [-8.08337584e-02, -1.06340565e+00, -2.01782256e+00],\n",
       "       [ 3.77972809e-01,  4.13874817e-01, -1.90120523e+00],\n",
       "       [ 7.68837827e-02, -3.60806197e-01, -2.42415579e+00],\n",
       "       [ 1.54402648e+00,  4.42187420e-02, -1.32931366e+00],\n",
       "       [ 5.74615775e-01,  1.64817134e-01,  4.31005288e-01],\n",
       "       [-7.63490854e-01, -5.93140640e-01, -2.94940914e-01],\n",
       "       [ 1.90571106e+00, -1.09283036e+00,  1.08638387e+00],\n",
       "       [-1.47125774e+00,  3.56462723e-01, -8.00458567e-01],\n",
       "       [-9.47886494e-01, -5.07405581e-02,  7.27763746e-01],\n",
       "       [-1.11291801e+00,  4.32931194e-01,  9.88140202e-01],\n",
       "       [ 3.56509085e-01,  1.15665905e+00,  8.98279900e-01],\n",
       "       [-1.11980811e-01,  3.01249271e-01, -8.75015675e-01],\n",
       "       [-1.66434202e-01, -7.81731133e-01, -9.51757597e-01],\n",
       "       [-2.05641297e-01, -3.13631343e-01, -6.17973129e-01],\n",
       "       [ 8.36355765e-02,  1.80159012e-01, -6.74622987e-01],\n",
       "       [-2.66693418e-01, -2.74752389e-01,  9.41164527e-01],\n",
       "       [ 1.33064745e+00,  5.57975262e-01,  7.01052413e-01],\n",
       "       [-8.18637754e-01,  1.36519957e+00, -4.40892955e-01],\n",
       "       [ 2.18154723e+00,  9.71067636e-01,  1.22257343e-01],\n",
       "       [-6.89429806e-01,  1.51648510e+00,  1.34660270e+00],\n",
       "       [ 1.12987374e+00,  5.09804911e-01,  3.73604517e-01],\n",
       "       [ 3.69760633e-01, -3.80117938e-01,  5.97787235e-01],\n",
       "       [-8.71644952e-01, -2.84201996e-01, -1.15224179e+00],\n",
       "       [-1.08383589e+00,  4.37130049e-02, -8.79855671e-02],\n",
       "       [ 1.57919605e+00,  1.06504425e+00, -7.66328580e-01],\n",
       "       [ 1.01326455e+00,  2.41846998e-02, -1.12811340e+00],\n",
       "       [ 1.69440803e-01,  3.91909846e-01, -4.45711570e-01],\n",
       "       [-2.57614103e+00,  1.15869068e+00,  1.23213489e-01],\n",
       "       [-1.73616788e-01,  1.95604411e+00, -2.85047573e+00],\n",
       "       [ 1.03816067e+00, -1.23493558e+00,  8.39673232e-02],\n",
       "       [ 1.26770114e+00, -9.03569254e-01, -2.04521473e+00],\n",
       "       [ 7.92425352e-01, -2.63742106e-01,  1.72450130e+00],\n",
       "       [-1.98136975e+00, -1.31290218e-01, -7.29658751e-01],\n",
       "       [-2.13356519e-01, -8.41356417e-01,  9.00069070e-01],\n",
       "       [-3.33880997e+00,  7.46095643e-01,  3.85035398e-01],\n",
       "       [-2.18192480e+00,  2.77442000e-01, -4.10529381e-01],\n",
       "       [ 4.80889873e-01,  1.72493049e+00, -4.23813846e-01],\n",
       "       [ 7.71547654e-01, -5.08617614e-01, -2.72364525e-03],\n",
       "       [ 2.28299853e+00,  2.78404931e-01,  6.10240032e-01],\n",
       "       [-2.63512672e+00,  2.50904811e-01, -1.11487089e+00],\n",
       "       [ 1.35504454e+00, -8.38959784e-01, -2.81169542e+00],\n",
       "       [-5.61027553e-01,  5.39173791e-01,  7.00402707e-01],\n",
       "       [-1.93780518e+00, -4.90029265e-01,  2.78213225e-01],\n",
       "       [ 4.61448305e-02, -5.79353110e-01,  1.16684550e+00],\n",
       "       [ 7.52215265e-01, -2.61262151e-01, -9.10142032e-01],\n",
       "       [ 3.35948361e-01,  3.34868480e-01, -2.72895214e-01],\n",
       "       [ 9.81336082e-01,  2.02451905e+00,  1.92081734e+00],\n",
       "       [ 1.66434777e+00, -6.52568261e-01,  1.32802471e+00],\n",
       "       [-8.38849426e-01, -8.60492836e-01,  3.08545089e-01],\n",
       "       [-1.24149800e+00,  1.16525494e+00, -6.94939102e-01],\n",
       "       [ 5.59030121e-01,  1.60629972e-01, -1.04579571e-01],\n",
       "       [ 8.68712941e-01,  9.12650231e-01,  1.49006540e+00],\n",
       "       [ 9.53572066e-01, -1.51066360e-01,  1.45349787e+00],\n",
       "       [ 5.57965045e-01, -1.80650162e-01, -1.41026822e+00],\n",
       "       [-1.15818830e+00,  7.06026703e-01,  1.54894785e+00],\n",
       "       [ 1.45738241e+00,  3.42056757e-01, -1.54528329e+00],\n",
       "       [ 1.47850703e+00, -6.86038658e-01, -1.39698254e-01],\n",
       "       [-9.15034374e-01,  7.52689470e-03,  9.03097370e-01],\n",
       "       [-4.65527727e-01, -1.75932576e-01,  1.81058979e-01],\n",
       "       [ 3.56198560e-01,  9.12971559e-01, -6.61663877e-02],\n",
       "       [ 8.08183319e-01,  9.43883349e-01,  2.50274040e-01],\n",
       "       [-6.55346835e-01,  1.10151033e+00,  7.44326446e-01],\n",
       "       [-5.71431151e-01, -1.26804547e+00,  2.09318259e-01],\n",
       "       [ 6.36298150e-01, -8.27883314e-01, -7.30849554e-01],\n",
       "       [-6.55818698e-01, -1.93251360e+00, -1.60883988e+00],\n",
       "       [ 1.51409407e+00,  1.55305086e+00, -1.49272629e+00],\n",
       "       [-8.06332959e-02,  1.60483960e+00,  7.45241272e-01],\n",
       "       [-8.71878776e-01, -3.49307274e-01,  1.15496757e+00],\n",
       "       [ 7.10782968e-02,  1.15780556e+00, -4.22667284e-01],\n",
       "       [ 4.02796447e-02, -1.48198981e+00,  5.76473605e-01],\n",
       "       [ 7.14787350e-01, -1.48536310e+00, -4.52586758e-01],\n",
       "       [ 7.55059402e-01,  1.47699489e+00, -1.15509805e+00],\n",
       "       [ 6.80170886e-01, -2.56453178e+00,  4.33244394e-01],\n",
       "       [-2.10688621e-01,  4.60650061e-01,  2.12503660e+00],\n",
       "       [-1.86436660e-01,  2.23784264e-01,  1.36085897e-01],\n",
       "       [ 1.03348004e+00,  1.30420507e+00,  3.33015197e-01],\n",
       "       [-1.41253317e-01, -3.41789785e-02, -3.19055168e-01]])"
      ]
     },
     "execution_count": 39,
     "metadata": {},
     "output_type": "execute_result"
    }
   ],
   "source": [
    "X"
   ]
  },
  {
   "cell_type": "code",
   "execution_count": 40,
   "metadata": {},
   "outputs": [],
   "source": [
    "def define_parameters(n_weights):\n",
    "    a= np.random.randn(  n_weights  , 1  )\n",
    "    b= np.random.random()\n",
    "    return a, b"
   ]
  },
  {
   "cell_type": "code",
   "execution_count": 42,
   "metadata": {},
   "outputs": [],
   "source": [
    "def prediction( a, b, X ):\n",
    "    z = np.dot( X , a ) + b\n",
    "    return z"
   ]
  },
  {
   "cell_type": "code",
   "execution_count": 43,
   "metadata": {},
   "outputs": [],
   "source": [
    "def find_cost( z  , y ):\n",
    "    m= y.shape[0]\n",
    "    total_cost = (1/m)*np.sum(  np.square(  z - y ) )\n",
    "    return total_cost"
   ]
  },
  {
   "cell_type": "code",
   "execution_count": 46,
   "metadata": {},
   "outputs": [],
   "source": [
    "def find_derivates( X , y , z ):\n",
    "    m = y.shape[0]\n",
    "    dz =  (1/m)*(z-y)\n",
    "    da = np.dot( X.T , dz  )\n",
    "    db = np.sum(dz)\n",
    "    return db, db"
   ]
  },
  {
   "cell_type": "code",
   "execution_count": 51,
   "metadata": {},
   "outputs": [],
   "source": [
    "def update_parameters(a,b, da, db, lr):\n",
    "    a = a - lr * da\n",
    "    b = b - lr * db\n",
    "    return a, b "
   ]
  },
  {
   "cell_type": "code",
   "execution_count": 56,
   "metadata": {},
   "outputs": [],
   "source": [
    "def linear_regression(X, y , lr, epoch):\n",
    "    error_list=[]\n",
    "    lenw= X.shape[1]\n",
    "    a , b = define_parameters(lenw)\n",
    "    for i in range(epoch):\n",
    "        z= predictions(a, b, X)\n",
    "        cost= find_cost(z, y)\n",
    "        error_list.append(cost)\n",
    "        da, db = find_derivates(X, y, z)\n",
    "        a, b = update_parameters(a,b,da,db,lr)\n",
    "        if i%50==0:\n",
    "            print(cost)\n",
    "    return error_list\n",
    "        "
   ]
  },
  {
   "cell_type": "code",
   "execution_count": 57,
   "metadata": {},
   "outputs": [
    {
     "name": "stdout",
     "output_type": "stream",
     "text": [
      "17097.153882840645\n",
      "8893.285521129555\n",
      "5462.431833492787\n",
      "4002.0895280324685\n",
      "3364.8079751067417\n",
      "3077.2446200844415\n",
      "2941.923134563044\n",
      "2875.0794454579427\n",
      "2840.3354722384156\n",
      "2821.3796151263623\n",
      "2810.594801521348\n",
      "2804.2505749498223\n",
      "2800.424593798188\n",
      "2798.07628627569\n",
      "2796.6174985045836\n",
      "2795.7039927337087\n",
      "2795.128933442628\n",
      "2794.765693688874\n",
      "2794.535747429104\n",
      "2794.389977004551\n"
     ]
    }
   ],
   "source": [
    "lr = 0.01\n",
    "epoch = 1000\n",
    "error_list=linear_regression(X,y,lr, epoch)"
   ]
  },
  {
   "cell_type": "code",
   "execution_count": 58,
   "metadata": {},
   "outputs": [
    {
     "data": {
      "text/plain": [
       "[<matplotlib.lines.Line2D at 0x7f9c4c3a1f10>]"
      ]
     },
     "execution_count": 58,
     "metadata": {},
     "output_type": "execute_result"
    },
    {
     "data": {
      "image/png": "[encoded data removed]",
      "text/plain": [
       "<Figure size 576x576 with 1 Axes>"
      ]
     },
     "metadata": {
      "needs_background": "light"
     },
     "output_type": "display_data"
    }
   ],
   "source": [
    "plt.plot(error_list)"
   ]
  },
  {
   "cell_type": "code",
   "execution_count": null,
   "metadata": {},
   "outputs": [],
   "source": []
  }
 ],
 "metadata": {
  "kernelspec": {
   "display_name": "Python 3",
   "language": "python",
   "name": "python3"
  },
  "language_info": {
   "codemirror_mode": {
    "name": "ipython",
    "version": 3
   },
   "file_extension": ".py",
   "mimetype": "text/x-python",
   "name": "python",
   "nbconvert_exporter": "python",
   "pygments_lexer": "ipython3",
   "version": "3.7.6"
  }
 },
 "nbformat": 4,
 "nbformat_minor": 4
}
