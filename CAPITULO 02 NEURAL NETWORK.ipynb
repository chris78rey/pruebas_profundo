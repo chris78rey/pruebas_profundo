{
 "cells": [
  {
   "cell_type": "code",
   "execution_count": 1,
   "metadata": {},
   "outputs": [],
   "source": [
    "from sklearn import datasets"
   ]
  },
  {
   "cell_type": "code",
   "execution_count": 2,
   "metadata": {},
   "outputs": [],
   "source": [
    "import numpy as np"
   ]
  },
  {
   "cell_type": "code",
   "execution_count": 3,
   "metadata": {},
   "outputs": [],
   "source": [
    "import matplotlib.pyplot as plt"
   ]
  },
  {
   "cell_type": "code",
   "execution_count": 4,
   "metadata": {},
   "outputs": [],
   "source": [
    "%matplotlib inline\n",
    "\n",
    "np.random.seed(0)\n",
    "X, y = datasets.make_moons(100, noise=0.10)"
   ]
  },
  {
   "cell_type": "code",
   "execution_count": 5,
   "metadata": {},
   "outputs": [
    {
     "data": {
      "text/plain": [
       "array([[-0.05348369,  0.99258199],\n",
       "       [ 1.81989987, -0.17559999],\n",
       "       [ 0.95535658,  0.05999942],\n",
       "       [ 0.01558147,  0.11081703],\n",
       "       [ 0.96454939, -0.51276464],\n",
       "       [ 1.98889686,  0.30384984],\n",
       "       [ 0.53549261,  0.68257563],\n",
       "       [ 0.92004283, -0.58127765],\n",
       "       [ 0.01206304,  0.29518806],\n",
       "       [ 1.88346177,  0.28446179],\n",
       "       [-0.08064949,  0.41062938],\n",
       "       [ 1.93512761, -0.05897236],\n",
       "       [ 1.31504601, -0.56540653],\n",
       "       [ 0.85667004,  0.89282872],\n",
       "       [ 0.75641531,  0.4715998 ],\n",
       "       [-0.35242078,  0.99888439],\n",
       "       [ 0.20681479,  1.06917351],\n",
       "       [ 0.12280354,  0.94090393],\n",
       "       [-0.42463668,  0.82968195],\n",
       "       [ 0.96867858,  0.51144583],\n",
       "       [-0.81695256,  0.4692567 ],\n",
       "       [ 0.34228955, -0.19550647],\n",
       "       [ 0.88254314,  0.37839804],\n",
       "       [ 0.75337171, -0.46959342],\n",
       "       [-0.86421327,  0.12595569],\n",
       "       [-0.91417342, -0.08494092],\n",
       "       [ 0.81989526,  0.35435414],\n",
       "       [ 2.06045723,  0.32569418],\n",
       "       [ 1.61496097, -0.20024177],\n",
       "       [ 1.22516082, -0.36530949],\n",
       "       [ 0.29040666, -0.11399058],\n",
       "       [ 1.24895872, -0.6375463 ],\n",
       "       [ 1.84706118, -0.03404951],\n",
       "       [ 0.53663514, -0.38453542],\n",
       "       [ 0.0242806 ,  0.47944808],\n",
       "       [-0.1641747 ,  0.99217162],\n",
       "       [ 0.3112303 ,  0.94315139],\n",
       "       [ 0.10912597,  0.16554781],\n",
       "       [ 0.13362754, -0.09579443],\n",
       "       [ 0.98723451, -0.5415727 ],\n",
       "       [ 1.17197074,  0.02766154],\n",
       "       [ 0.37294948, -0.23005049],\n",
       "       [-0.89269787,  0.30477789],\n",
       "       [-0.93742913,  0.37269845],\n",
       "       [ 0.98705913,  0.29504458],\n",
       "       [ 0.69184886,  1.00850764],\n",
       "       [ 0.53396067,  1.11503264],\n",
       "       [-0.68167785,  0.60664527],\n",
       "       [-0.84918229,  0.48611965],\n",
       "       [ 0.89088845,  0.26132482],\n",
       "       [ 1.71571634,  0.00383596],\n",
       "       [-0.01921598, -0.10865242],\n",
       "       [ 0.90718408,  0.14907219],\n",
       "       [-0.55256673,  0.77301182],\n",
       "       [-0.04128547,  0.74551416],\n",
       "       [ 0.06512093,  0.38695036],\n",
       "       [ 0.68371129,  0.75982224],\n",
       "       [-0.4895445 ,  0.60508812],\n",
       "       [ 0.13846427,  1.10431002],\n",
       "       [-0.03020858,  0.43534298],\n",
       "       [ 0.74644803,  0.6502231 ],\n",
       "       [-0.39394839,  0.94057947],\n",
       "       [ 0.3901319 , -0.26931898],\n",
       "       [ 0.10846456, -0.08247412],\n",
       "       [ 1.09446916, -0.57242577],\n",
       "       [ 1.44728591, -0.3106938 ],\n",
       "       [-0.35774007,  0.91159506],\n",
       "       [ 1.57680711, -0.42339656],\n",
       "       [ 0.66380837,  0.71342556],\n",
       "       [ 1.92764584, -0.29866619],\n",
       "       [ 0.31216201,  0.90885838],\n",
       "       [-0.50636366,  0.94031757],\n",
       "       [-0.96076919,  0.02416348],\n",
       "       [ 2.00218361,  0.28916572],\n",
       "       [ 2.04722133,  0.44494106],\n",
       "       [ 0.55487819, -0.51847224],\n",
       "       [ 0.30523514,  1.01101416],\n",
       "       [ 1.87911626,  0.27626236],\n",
       "       [ 0.77312163, -0.47384933],\n",
       "       [ 1.2022895 , -0.48846672],\n",
       "       [-0.06727641,  1.08143288],\n",
       "       [-0.66615058,  0.81540854],\n",
       "       [ 1.36653472, -0.34524643],\n",
       "       [-0.94617066,  0.29591716],\n",
       "       [-0.84380325,  0.24663372],\n",
       "       [ 0.29356767, -0.17762164],\n",
       "       [ 0.1515395 , -0.01648393],\n",
       "       [ 0.72338642,  0.55766146],\n",
       "       [ 1.73527875, -0.16616636],\n",
       "       [ 0.64619536, -0.34488517],\n",
       "       [ 1.70143362, -0.27207392],\n",
       "       [-0.7221082 ,  0.70398889],\n",
       "       [ 0.24891696,  0.91196372],\n",
       "       [ 1.47116673, -0.50647887],\n",
       "       [ 0.94885057,  0.56315878],\n",
       "       [ 1.8875238 ,  0.4018008 ],\n",
       "       [ 0.43118222, -0.47523993],\n",
       "       [ 0.56864489, -0.32780953],\n",
       "       [-1.10069346,  0.22628889],\n",
       "       [-1.06497638,  0.27145451]])"
      ]
     },
     "execution_count": 5,
     "metadata": {},
     "output_type": "execute_result"
    }
   ],
   "source": [
    "X"
   ]
  },
  {
   "cell_type": "code",
   "execution_count": 6,
   "metadata": {},
   "outputs": [
    {
     "data": {
      "text/plain": [
       "(100, 2)"
      ]
     },
     "execution_count": 6,
     "metadata": {},
     "output_type": "execute_result"
    }
   ],
   "source": [
    "X.shape"
   ]
  },
  {
   "cell_type": "code",
   "execution_count": 7,
   "metadata": {},
   "outputs": [
    {
     "data": {
      "text/plain": [
       "array([0, 1, 0, 1, 1, 1, 0, 1, 1, 1, 1, 1, 1, 0, 0, 0, 0, 0, 0, 0, 0, 1,\n",
       "       0, 1, 0, 0, 0, 1, 1, 1, 1, 1, 1, 1, 1, 0, 0, 1, 1, 1, 0, 1, 0, 0,\n",
       "       0, 0, 0, 0, 0, 0, 1, 1, 0, 0, 0, 1, 0, 0, 0, 1, 0, 0, 1, 1, 1, 1,\n",
       "       0, 1, 0, 1, 0, 0, 0, 1, 1, 1, 0, 1, 1, 1, 0, 0, 1, 0, 0, 1, 1, 0,\n",
       "       1, 1, 1, 0, 0, 1, 0, 1, 1, 1, 0, 0])"
      ]
     },
     "execution_count": 7,
     "metadata": {},
     "output_type": "execute_result"
    }
   ],
   "source": [
    "y"
   ]
  },
  {
   "cell_type": "code",
   "execution_count": 8,
   "metadata": {},
   "outputs": [],
   "source": [
    "x1= X[:0]"
   ]
  },
  {
   "cell_type": "code",
   "execution_count": 9,
   "metadata": {},
   "outputs": [
    {
     "data": {
      "text/plain": [
       "array([], shape=(0, 2), dtype=float64)"
      ]
     },
     "execution_count": 9,
     "metadata": {},
     "output_type": "execute_result"
    }
   ],
   "source": [
    "x1"
   ]
  },
  {
   "cell_type": "code",
   "execution_count": 10,
   "metadata": {},
   "outputs": [
    {
     "name": "stdout",
     "output_type": "stream",
     "text": [
      "[]\n"
     ]
    }
   ],
   "source": [
    "print(x1)"
   ]
  },
  {
   "cell_type": "code",
   "execution_count": 11,
   "metadata": {},
   "outputs": [],
   "source": [
    "x2 = X[ : , 1]"
   ]
  },
  {
   "cell_type": "code",
   "execution_count": 12,
   "metadata": {},
   "outputs": [
    {
     "data": {
      "text/plain": [
       "array([ 0.99258199, -0.17559999,  0.05999942,  0.11081703, -0.51276464,\n",
       "        0.30384984,  0.68257563, -0.58127765,  0.29518806,  0.28446179,\n",
       "        0.41062938, -0.05897236, -0.56540653,  0.89282872,  0.4715998 ,\n",
       "        0.99888439,  1.06917351,  0.94090393,  0.82968195,  0.51144583,\n",
       "        0.4692567 , -0.19550647,  0.37839804, -0.46959342,  0.12595569,\n",
       "       -0.08494092,  0.35435414,  0.32569418, -0.20024177, -0.36530949,\n",
       "       -0.11399058, -0.6375463 , -0.03404951, -0.38453542,  0.47944808,\n",
       "        0.99217162,  0.94315139,  0.16554781, -0.09579443, -0.5415727 ,\n",
       "        0.02766154, -0.23005049,  0.30477789,  0.37269845,  0.29504458,\n",
       "        1.00850764,  1.11503264,  0.60664527,  0.48611965,  0.26132482,\n",
       "        0.00383596, -0.10865242,  0.14907219,  0.77301182,  0.74551416,\n",
       "        0.38695036,  0.75982224,  0.60508812,  1.10431002,  0.43534298,\n",
       "        0.6502231 ,  0.94057947, -0.26931898, -0.08247412, -0.57242577,\n",
       "       -0.3106938 ,  0.91159506, -0.42339656,  0.71342556, -0.29866619,\n",
       "        0.90885838,  0.94031757,  0.02416348,  0.28916572,  0.44494106,\n",
       "       -0.51847224,  1.01101416,  0.27626236, -0.47384933, -0.48846672,\n",
       "        1.08143288,  0.81540854, -0.34524643,  0.29591716,  0.24663372,\n",
       "       -0.17762164, -0.01648393,  0.55766146, -0.16616636, -0.34488517,\n",
       "       -0.27207392,  0.70398889,  0.91196372, -0.50647887,  0.56315878,\n",
       "        0.4018008 , -0.47523993, -0.32780953,  0.22628889,  0.27145451])"
      ]
     },
     "execution_count": 12,
     "metadata": {},
     "output_type": "execute_result"
    }
   ],
   "source": [
    "x2"
   ]
  },
  {
   "cell_type": "code",
   "execution_count": 13,
   "metadata": {},
   "outputs": [
    {
     "data": {
      "text/plain": [
       "(100,)"
      ]
     },
     "execution_count": 13,
     "metadata": {},
     "output_type": "execute_result"
    }
   ],
   "source": [
    "x2.shape"
   ]
  },
  {
   "cell_type": "code",
   "execution_count": 35,
   "metadata": {},
   "outputs": [
    {
     "data": {
      "text/plain": [
       "<matplotlib.collections.PathCollection at 0x7f1eae217dd0>"
      ]
     },
     "execution_count": 35,
     "metadata": {},
     "output_type": "execute_result"
    },
    {
     "data": {
      "image/png": "[encoded data removed]",
      "text/plain": [
       "<Figure size 720x504 with 1 Axes>"
      ]
     },
     "metadata": {
      "needs_background": "light"
     },
     "output_type": "display_data"
    }
   ],
   "source": [
    "from sklearn import datasets\n",
    "import numpy as np\n",
    "import matplotlib.pyplot as plt\n",
    "\n",
    "\n",
    "%matplotlib inline\n",
    "\n",
    "\n",
    "np.random.seed(0)\n",
    "X, y = datasets.make_moons(100, noise=0.10)\n",
    "\n",
    "x1= X[: ,0]\n",
    "x2= X[ : , 1]\n",
    "\n",
    "plt.figure(figsize=(10,7))\n",
    "plt.scatter(x1,x2, c=y, cmap=plt.cm.coolwarm)"
   ]
  },
  {
   "cell_type": "code",
   "execution_count": 36,
   "metadata": {},
   "outputs": [
    {
     "data": {
      "text/plain": [
       "array([-0.05348369,  1.81989987,  0.95535658,  0.01558147,  0.96454939,\n",
       "        1.98889686,  0.53549261,  0.92004283,  0.01206304,  1.88346177,\n",
       "       -0.08064949,  1.93512761,  1.31504601,  0.85667004,  0.75641531,\n",
       "       -0.35242078,  0.20681479,  0.12280354, -0.42463668,  0.96867858,\n",
       "       -0.81695256,  0.34228955,  0.88254314,  0.75337171, -0.86421327,\n",
       "       -0.91417342,  0.81989526,  2.06045723,  1.61496097,  1.22516082,\n",
       "        0.29040666,  1.24895872,  1.84706118,  0.53663514,  0.0242806 ,\n",
       "       -0.1641747 ,  0.3112303 ,  0.10912597,  0.13362754,  0.98723451,\n",
       "        1.17197074,  0.37294948, -0.89269787, -0.93742913,  0.98705913,\n",
       "        0.69184886,  0.53396067, -0.68167785, -0.84918229,  0.89088845,\n",
       "        1.71571634, -0.01921598,  0.90718408, -0.55256673, -0.04128547,\n",
       "        0.06512093,  0.68371129, -0.4895445 ,  0.13846427, -0.03020858,\n",
       "        0.74644803, -0.39394839,  0.3901319 ,  0.10846456,  1.09446916,\n",
       "        1.44728591, -0.35774007,  1.57680711,  0.66380837,  1.92764584,\n",
       "        0.31216201, -0.50636366, -0.96076919,  2.00218361,  2.04722133,\n",
       "        0.55487819,  0.30523514,  1.87911626,  0.77312163,  1.2022895 ,\n",
       "       -0.06727641, -0.66615058,  1.36653472, -0.94617066, -0.84380325,\n",
       "        0.29356767,  0.1515395 ,  0.72338642,  1.73527875,  0.64619536,\n",
       "        1.70143362, -0.7221082 ,  0.24891696,  1.47116673,  0.94885057,\n",
       "        1.8875238 ,  0.43118222,  0.56864489, -1.10069346, -1.06497638])"
      ]
     },
     "execution_count": 36,
     "metadata": {},
     "output_type": "execute_result"
    }
   ],
   "source": [
    "x1"
   ]
  },
  {
   "cell_type": "code",
   "execution_count": 37,
   "metadata": {},
   "outputs": [
    {
     "data": {
      "text/plain": [
       "(100,)"
      ]
     },
     "execution_count": 37,
     "metadata": {},
     "output_type": "execute_result"
    }
   ],
   "source": [
    "x1.shape"
   ]
  },
  {
   "cell_type": "code",
   "execution_count": 38,
   "metadata": {},
   "outputs": [
    {
     "data": {
      "text/plain": [
       "(100,)"
      ]
     },
     "execution_count": 38,
     "metadata": {},
     "output_type": "execute_result"
    }
   ],
   "source": [
    "y.shape"
   ]
  },
  {
   "cell_type": "code",
   "execution_count": 39,
   "metadata": {},
   "outputs": [],
   "source": [
    "y= y.reshape(y.shape[0],1)"
   ]
  },
  {
   "cell_type": "code",
   "execution_count": 40,
   "metadata": {},
   "outputs": [
    {
     "data": {
      "text/plain": [
       "array([[0],\n",
       "       [1],\n",
       "       [0],\n",
       "       [1],\n",
       "       [1],\n",
       "       [1],\n",
       "       [0],\n",
       "       [1],\n",
       "       [1],\n",
       "       [1],\n",
       "       [1],\n",
       "       [1],\n",
       "       [1],\n",
       "       [0],\n",
       "       [0],\n",
       "       [0],\n",
       "       [0],\n",
       "       [0],\n",
       "       [0],\n",
       "       [0],\n",
       "       [0],\n",
       "       [1],\n",
       "       [0],\n",
       "       [1],\n",
       "       [0],\n",
       "       [0],\n",
       "       [0],\n",
       "       [1],\n",
       "       [1],\n",
       "       [1],\n",
       "       [1],\n",
       "       [1],\n",
       "       [1],\n",
       "       [1],\n",
       "       [1],\n",
       "       [0],\n",
       "       [0],\n",
       "       [1],\n",
       "       [1],\n",
       "       [1],\n",
       "       [0],\n",
       "       [1],\n",
       "       [0],\n",
       "       [0],\n",
       "       [0],\n",
       "       [0],\n",
       "       [0],\n",
       "       [0],\n",
       "       [0],\n",
       "       [0],\n",
       "       [1],\n",
       "       [1],\n",
       "       [0],\n",
       "       [0],\n",
       "       [0],\n",
       "       [1],\n",
       "       [0],\n",
       "       [0],\n",
       "       [0],\n",
       "       [1],\n",
       "       [0],\n",
       "       [0],\n",
       "       [1],\n",
       "       [1],\n",
       "       [1],\n",
       "       [1],\n",
       "       [0],\n",
       "       [1],\n",
       "       [0],\n",
       "       [1],\n",
       "       [0],\n",
       "       [0],\n",
       "       [0],\n",
       "       [1],\n",
       "       [1],\n",
       "       [1],\n",
       "       [0],\n",
       "       [1],\n",
       "       [1],\n",
       "       [1],\n",
       "       [0],\n",
       "       [0],\n",
       "       [1],\n",
       "       [0],\n",
       "       [0],\n",
       "       [1],\n",
       "       [1],\n",
       "       [0],\n",
       "       [1],\n",
       "       [1],\n",
       "       [1],\n",
       "       [0],\n",
       "       [0],\n",
       "       [1],\n",
       "       [0],\n",
       "       [1],\n",
       "       [1],\n",
       "       [1],\n",
       "       [0],\n",
       "       [0]])"
      ]
     },
     "execution_count": 40,
     "metadata": {},
     "output_type": "execute_result"
    }
   ],
   "source": [
    "y"
   ]
  },
  {
   "cell_type": "code",
   "execution_count": 41,
   "metadata": {},
   "outputs": [
    {
     "name": "stdout",
     "output_type": "stream",
     "text": [
      "(100, 2)\n",
      "(100, 1)\n"
     ]
    }
   ],
   "source": [
    "print( X.shape )\n",
    "print( y.shape )"
   ]
  },
  {
   "cell_type": "code",
   "execution_count": 42,
   "metadata": {},
   "outputs": [],
   "source": [
    "def define_parameters(weights):\n",
    "    weight_list=[]\n",
    "    bias_list=[]\n",
    "    \n",
    "    for i in range( len(weights)   ):\n",
    "        w = np.random.randn( weights[i] , weights[i+1]   )\n",
    "        b = np.random.randn()\n",
    "        \n",
    "        weight_list.append( w )\n",
    "        bias_list.append( b )\n",
    "    return weight_list , bias_list"
   ]
  },
  {
   "cell_type": "code",
   "execution_count": 43,
   "metadata": {},
   "outputs": [],
   "source": [
    "def sigmoid(  x ):\n",
    "    return 1 / ( 1 + np.exp( -x ) )"
   ]
  },
  {
   "cell_type": "code",
   "execution_count": 44,
   "metadata": {},
   "outputs": [],
   "source": [
    "def sigmoid_der( x ):\n",
    "    return sigmoid( x ) * ( 1 - sigmoid(x))"
   ]
  },
  {
   "cell_type": "code",
   "execution_count": 45,
   "metadata": {},
   "outputs": [],
   "source": [
    "def predictions( w , b , X):\n",
    "    zh = np.dot( X , w[0] + b[0]  )\n",
    "    ah = sigmoid(zh)\n",
    "    \n",
    "    zo = np.dot( X , w[1] + b[1])\n",
    "    ao = sigmoid( zo )\n",
    "    return ao"
   ]
  },
  {
   "cell_type": "code",
   "execution_count": 46,
   "metadata": {},
   "outputs": [],
   "source": [
    "def find_cost( a0 , y ):\n",
    "    m = y.shape[ 0 ]\n",
    "    total_cost = (1/m)*np.sum(  np.square( a0 - y  )  )\n",
    "    return total_cost"
   ]
  },
  {
   "cell_type": "code",
   "execution_count": 47,
   "metadata": {},
   "outputs": [],
   "source": [
    "def find_derivates( w , b , X ):\n",
    "    zh = np.dot( X  , w[0] ) + b[0]   \n",
    "    ah = sigmoid(  zh  )\n",
    "    \n",
    "    zo = np.dot( ah  , w[1] ) + b[1]   \n",
    "    ao = sigmoid(  zo  )\n",
    "    \n",
    "    #backpropag 1\n",
    "    m = y.shape[0]\n",
    "    dcost_dao = (1/m) * (ao  -  y)\n",
    "    dao_dzo = sigmoid_der( zo )\n",
    "    dzo_dwo = ah.T\n",
    "    \n",
    "    \n",
    "    dwo = np.dot( dzo_dwo , dcost_dao * dao_dzo )\n",
    "    dbo= np.sum( dcost_dao *   dao_dzo )\n",
    "    \n",
    "    \n",
    "    #backprop 2\n",
    "    \n",
    "    dcost_dzo   = dcost_dao * dao_dzo\n",
    "    dzo_dah = w[1].T\n",
    "    \n",
    "    \n",
    "    \n",
    "    dcost_dah = np.dot(  dcost_dzo  , dzo_dah )\n",
    "    dah_dzh = sigmoid_der( zh )\n",
    "    dzh_dwh = X.T\n",
    "    \n",
    "    dwh =  np.dot(dzh_dwh , dah_dzh*dcost_dah )\n",
    "    dbh = np.sum( dah_dzh  *  dcost_dah )\n",
    "    \n",
    "    return dwh , dbh , dwo , dbo\n",
    "    \n",
    "\n",
    "    "
   ]
  },
  {
   "cell_type": "code",
   "execution_count": 48,
   "metadata": {},
   "outputs": [],
   "source": [
    "def update_weight( w , b , dwh , dbh,  dwo , dbo, lr ):\n",
    "    w[ 0 ] = w[ 0 ] - lr * dwh\n",
    "    w[ 1 ] = w[ 1 ] - lr * dwo\n",
    "    \n",
    "    b[0] =  b[0] -lr * dbh\n",
    "    b[1] =  b[1] - lr* dbo\n",
    "    \n",
    "    return w, b"
   ]
  },
  {
   "cell_type": "code",
   "execution_count": 49,
   "metadata": {},
   "outputs": [],
   "source": [
    "def my_neural_network( X  , y , lr , epoch  ):\n",
    "    error_list = []\n",
    "    input_len = X.shape[ 1 ]\n",
    "    output_len = y.shape[1]\n",
    "    w, b = define_parameters( [input_len,4, output_len] )\n",
    "    \n",
    "    for i in range(epoch):\n",
    "        ao = predictions( w , b , X )\n",
    "        cost = find_cost( ao , y )\n",
    "        error_list.append(cost)\n",
    "        dwh , dbh , dwo , dbo = find_derivates(w , b, X)\n",
    "        \n",
    "        w , b = update_weight(w , b, dwh , dbh , dwo , dbo , lr )\n",
    "        \n",
    "        if i%50 == 0 :\n",
    "            print(cost)\n",
    "            \n",
    "    return w, b , error_list\n",
    "        "
   ]
  },
  {
   "cell_type": "code",
   "execution_count": 50,
   "metadata": {},
   "outputs": [
    {
     "ename": "IndexError",
     "evalue": "list index out of range",
     "output_type": "error",
     "traceback": [
      "\u001b[0;31m---------------------------------------------------------------------------\u001b[0m",
      "\u001b[0;31mIndexError\u001b[0m                                Traceback (most recent call last)",
      "\u001b[0;32m<ipython-input-50-6be0fc0e8ad7>\u001b[0m in \u001b[0;36m<module>\u001b[0;34m\u001b[0m\n\u001b[1;32m      2\u001b[0m \u001b[0mepoch\u001b[0m \u001b[0;34m=\u001b[0m \u001b[0;36m2000\u001b[0m\u001b[0;34m\u001b[0m\u001b[0;34m\u001b[0m\u001b[0m\n\u001b[1;32m      3\u001b[0m \u001b[0;34m\u001b[0m\u001b[0m\n\u001b[0;32m----> 4\u001b[0;31m \u001b[0mw\u001b[0m\u001b[0;34m,\u001b[0m \u001b[0mb\u001b[0m \u001b[0;34m,\u001b[0m \u001b[0merror_list\u001b[0m \u001b[0;34m=\u001b[0m \u001b[0mmy_neural_network\u001b[0m\u001b[0;34m(\u001b[0m\u001b[0mX\u001b[0m\u001b[0;34m,\u001b[0m \u001b[0my\u001b[0m\u001b[0;34m,\u001b[0m \u001b[0mlr\u001b[0m\u001b[0;34m,\u001b[0m \u001b[0mepoch\u001b[0m\u001b[0;34m)\u001b[0m\u001b[0;34m\u001b[0m\u001b[0;34m\u001b[0m\u001b[0m\n\u001b[0m",
      "\u001b[0;32m<ipython-input-49-3abc7c592089>\u001b[0m in \u001b[0;36mmy_neural_network\u001b[0;34m(X, y, lr, epoch)\u001b[0m\n\u001b[1;32m      3\u001b[0m     \u001b[0minput_len\u001b[0m \u001b[0;34m=\u001b[0m \u001b[0mX\u001b[0m\u001b[0;34m.\u001b[0m\u001b[0mshape\u001b[0m\u001b[0;34m[\u001b[0m \u001b[0;36m1\u001b[0m \u001b[0;34m]\u001b[0m\u001b[0;34m\u001b[0m\u001b[0;34m\u001b[0m\u001b[0m\n\u001b[1;32m      4\u001b[0m     \u001b[0moutput_len\u001b[0m \u001b[0;34m=\u001b[0m \u001b[0my\u001b[0m\u001b[0;34m.\u001b[0m\u001b[0mshape\u001b[0m\u001b[0;34m[\u001b[0m\u001b[0;36m1\u001b[0m\u001b[0;34m]\u001b[0m\u001b[0;34m\u001b[0m\u001b[0;34m\u001b[0m\u001b[0m\n\u001b[0;32m----> 5\u001b[0;31m     \u001b[0mw\u001b[0m\u001b[0;34m,\u001b[0m \u001b[0mb\u001b[0m \u001b[0;34m=\u001b[0m \u001b[0mdefine_parameters\u001b[0m\u001b[0;34m(\u001b[0m \u001b[0;34m[\u001b[0m\u001b[0minput_len\u001b[0m\u001b[0;34m,\u001b[0m\u001b[0;36m4\u001b[0m\u001b[0;34m,\u001b[0m \u001b[0moutput_len\u001b[0m\u001b[0;34m]\u001b[0m \u001b[0;34m)\u001b[0m\u001b[0;34m\u001b[0m\u001b[0;34m\u001b[0m\u001b[0m\n\u001b[0m\u001b[1;32m      6\u001b[0m \u001b[0;34m\u001b[0m\u001b[0m\n\u001b[1;32m      7\u001b[0m     \u001b[0;32mfor\u001b[0m \u001b[0mi\u001b[0m \u001b[0;32min\u001b[0m \u001b[0mrange\u001b[0m\u001b[0;34m(\u001b[0m\u001b[0mepoch\u001b[0m\u001b[0;34m)\u001b[0m\u001b[0;34m:\u001b[0m\u001b[0;34m\u001b[0m\u001b[0;34m\u001b[0m\u001b[0m\n",
      "\u001b[0;32m<ipython-input-42-fd9139bbe393>\u001b[0m in \u001b[0;36mdefine_parameters\u001b[0;34m(weights)\u001b[0m\n\u001b[1;32m      4\u001b[0m \u001b[0;34m\u001b[0m\u001b[0m\n\u001b[1;32m      5\u001b[0m     \u001b[0;32mfor\u001b[0m \u001b[0mi\u001b[0m \u001b[0;32min\u001b[0m \u001b[0mrange\u001b[0m\u001b[0;34m(\u001b[0m \u001b[0mlen\u001b[0m\u001b[0;34m(\u001b[0m\u001b[0mweights\u001b[0m\u001b[0;34m)\u001b[0m   \u001b[0;34m)\u001b[0m\u001b[0;34m:\u001b[0m\u001b[0;34m\u001b[0m\u001b[0;34m\u001b[0m\u001b[0m\n\u001b[0;32m----> 6\u001b[0;31m         \u001b[0mw\u001b[0m \u001b[0;34m=\u001b[0m \u001b[0mnp\u001b[0m\u001b[0;34m.\u001b[0m\u001b[0mrandom\u001b[0m\u001b[0;34m.\u001b[0m\u001b[0mrandn\u001b[0m\u001b[0;34m(\u001b[0m \u001b[0mweights\u001b[0m\u001b[0;34m[\u001b[0m\u001b[0mi\u001b[0m\u001b[0;34m]\u001b[0m \u001b[0;34m,\u001b[0m \u001b[0mweights\u001b[0m\u001b[0;34m[\u001b[0m\u001b[0mi\u001b[0m\u001b[0;34m+\u001b[0m\u001b[0;36m1\u001b[0m\u001b[0;34m]\u001b[0m   \u001b[0;34m)\u001b[0m\u001b[0;34m\u001b[0m\u001b[0;34m\u001b[0m\u001b[0m\n\u001b[0m\u001b[1;32m      7\u001b[0m         \u001b[0mb\u001b[0m \u001b[0;34m=\u001b[0m \u001b[0mnp\u001b[0m\u001b[0;34m.\u001b[0m\u001b[0mrandom\u001b[0m\u001b[0;34m.\u001b[0m\u001b[0mrandn\u001b[0m\u001b[0;34m(\u001b[0m\u001b[0;34m)\u001b[0m\u001b[0;34m\u001b[0m\u001b[0;34m\u001b[0m\u001b[0m\n\u001b[1;32m      8\u001b[0m \u001b[0;34m\u001b[0m\u001b[0m\n",
      "\u001b[0;31mIndexError\u001b[0m: list index out of range"
     ]
    }
   ],
   "source": [
    "lr = 0.5\n",
    "epoch = 2000\n",
    "\n",
    "w, b , error_list = my_neural_network(X, y, lr, epoch)"
   ]
  },
  {
   "cell_type": "code",
   "execution_count": null,
   "metadata": {},
   "outputs": [],
   "source": []
  }
 ],
 "metadata": {
  "kernelspec": {
   "display_name": "Python 3",
   "language": "python",
   "name": "python3"
  },
  "language_info": {
   "codemirror_mode": {
    "name": "ipython",
    "version": 3
   },
   "file_extension": ".py",
   "mimetype": "text/x-python",
   "name": "python",
   "nbconvert_exporter": "python",
   "pygments_lexer": "ipython3",
   "version": "3.7.6"
  }
 },
 "nbformat": 4,
 "nbformat_minor": 4
}
