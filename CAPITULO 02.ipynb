{
 "cells": [
  {
   "cell_type": "code",
   "execution_count": 4,
   "metadata": {},
   "outputs": [],
   "source": [
    "from sklearn.datasets import make_regression\n",
    "import matplotlib.pyplot as plt\n",
    "import numpy as np\n",
    "X,y = make_regression(n_samples=100, n_features=1, noise=1.0, bias=50)\n",
    "y = y.reshape( y.shape[0], 1 )"
   ]
  },
  {
   "cell_type": "code",
   "execution_count": 10,
   "metadata": {},
   "outputs": [
    {
     "data": {
      "image/png": "[encoded data removed]",
      "text/plain": [
       "<Figure size 720x720 with 1 Axes>"
      ]
     },
     "metadata": {
      "needs_background": "light"
     },
     "output_type": "display_data"
    }
   ],
   "source": [
    "plt.scatter(X,y)\n",
    "plt.rcParams[\"figure.figsize\"]=[8,8]"
   ]
  },
  {
   "cell_type": "code",
   "execution_count": 11,
   "metadata": {},
   "outputs": [
    {
     "name": "stdout",
     "output_type": "stream",
     "text": [
      "(100, 1)\n",
      "(100, 1)\n"
     ]
    }
   ],
   "source": [
    "print(X.shape)\n",
    "print(y.shape)"
   ]
  },
  {
   "cell_type": "code",
   "execution_count": 12,
   "metadata": {},
   "outputs": [],
   "source": [
    "def define_parameters( n_weights):\n",
    "    a = np.random.randn( n_weights , 1 )\n",
    "    b = np.random.randn()\n",
    "    return a, b"
   ]
  },
  {
   "cell_type": "code",
   "execution_count": 13,
   "metadata": {},
   "outputs": [],
   "source": [
    "def predictions( a , b, X  ):\n",
    "    z = np.dot(X,a) + b\n",
    "    return z"
   ]
  },
  {
   "cell_type": "code",
   "execution_count": 15,
   "metadata": {},
   "outputs": [],
   "source": [
    "def find_cost(z, y):\n",
    "    m= y.shape[0]\n",
    "    total_cost=(1/m)*np.sum(  np.square( z - y)  )\n",
    "    return total_cost"
   ]
  },
  {
   "cell_type": "code",
   "execution_count": 16,
   "metadata": {},
   "outputs": [],
   "source": [
    "def find_derivates(X, y , z):\n",
    "    m =  y.shape[0]\n",
    "    dz= (1/m)*(z-y)\n",
    "    da= np.dot(X.T, dz)\n",
    "    db= np.sum(dz)\n",
    "    return da, db"
   ]
  },
  {
   "cell_type": "code",
   "execution_count": 17,
   "metadata": {},
   "outputs": [],
   "source": [
    "def update_parameters(a , b, da, db, lr):\n",
    "    a=a-lr*da\n",
    "    b=b-lr*db\n",
    "    return a, b\n",
    "    "
   ]
  },
  {
   "cell_type": "code",
   "execution_count": 20,
   "metadata": {},
   "outputs": [],
   "source": [
    "def linear_regression(X, y , lr, epoch):\n",
    "    error_list=[]\n",
    "    lenw =  X.shape[1]\n",
    "    a, b = define_parameters(lenw)\n",
    "    for i in range(epoch):\n",
    "        z= predictions(a, b, X)\n",
    "        cost = find_cost(z, y)\n",
    "        error_list.append(cost)\n",
    "        da, db = find_derivates(X, y, z)\n",
    "        a, b = update_parameters(a, b, da, db, lr)\n",
    "        if i%50 ==0:\n",
    "            print( cost)\n",
    "    return error_list\n",
    "            \n",
    "            \n",
    "        "
   ]
  },
  {
   "cell_type": "code",
   "execution_count": 23,
   "metadata": {},
   "outputs": [
    {
     "name": "stdout",
     "output_type": "stream",
     "text": [
      "2725.9608602542103\n",
      "1006.7709373678632\n",
      "372.3536316325303\n",
      "138.14609238421374\n",
      "51.64919177516668\n",
      "19.69167312552096\n",
      "7.879841142656901\n",
      "3.5123511168985937\n",
      "1.8968187717212153\n",
      "1.299003545946326\n",
      "1.0777020989045023\n",
      "0.9957489242105596\n",
      "0.9653883675300001\n",
      "0.9541367704094461\n",
      "0.9499654159994505\n",
      "0.9484183944168748\n",
      "0.9478444500096507\n",
      "0.9476314423659293\n",
      "0.947552361737432\n",
      "0.9475229925321687\n"
     ]
    }
   ],
   "source": [
    "lr=0.01\n",
    "epoch = 1000\n",
    "error_list = linear_regression(X,y,lr, epoch)"
   ]
  },
  {
   "cell_type": "code",
   "execution_count": null,
   "metadata": {},
   "outputs": [],
   "source": []
  }
 ],
 "metadata": {
  "kernelspec": {
   "display_name": "Python 3",
   "language": "python",
   "name": "python3"
  },
  "language_info": {
   "codemirror_mode": {
    "name": "ipython",
    "version": 3
   },
   "file_extension": ".py",
   "mimetype": "text/x-python",
   "name": "python",
   "nbconvert_exporter": "python",
   "pygments_lexer": "ipython3",
   "version": "3.7.6"
  }
 },
 "nbformat": 4,
 "nbformat_minor": 4
}
